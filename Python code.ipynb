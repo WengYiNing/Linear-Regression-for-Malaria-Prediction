{
 "cells": [
  {
   "cell_type": "code",
   "execution_count": null,
   "metadata": {},
   "outputs": [
    {
     "data": {
      "text/plain": [
       "('/Users/wongyining/Desktop/大五上/用 Python與Excel 學習統計模型思維/期末專案/Cleaned_Malaria_Cases.csv',\n",
       " '/Users/wongyining/Desktop/大五上/用 Python與Excel 學習統計模型思維/期末專案/Cleaned_Malaria_Deaths.csv')"
      ]
     },
     "execution_count": 10,
     "metadata": {},
     "output_type": "execute_result"
    }
   ],
   "source": [
    "import pandas as pd\n",
    "import re\n",
    "\n",
    "#引入數據檔案\n",
    "cases_file_path = '/your file path/Malaria cases.csv'\n",
    "deaths_file_path = '/your file path/Malaria deaths.csv'\n",
    "\n",
    "cases_df = pd.read_csv(cases_file_path)\n",
    "deaths_df = pd.read_csv(deaths_file_path)\n",
    "\n",
    "#進行數據清理\n",
    "def clean_numeric_data(value):\n",
    "    if isinstance(value, str):\n",
    "        value = re.sub(r'\\[.*?\\]', '', value).replace(' ', '') #移除原先檔案中括號 [] 及其內部的任何內容，並去除空格\n",
    "        \n",
    "        try:\n",
    "            return int(value) #將處理後的字串轉換為 int 格式 \n",
    "        except ValueError:\n",
    "            return None  \n",
    "   \n",
    "    return value\n",
    "\n",
    "#重構並清理資料表，取出地區名稱、年份、以及數值\n",
    "def restructure_and_clean_data(df):\n",
    "    region_column = df.iloc[:, 0] \n",
    "    year_columns = df.iloc[0, 1:] \n",
    "    numeric_data = df.iloc[1:, 1:].applymap(clean_numeric_data) \n",
    "    numeric_data.columns = year_columns\n",
    "    numeric_data.insert(0, 'Region', region_column.iloc[1:].values)\n",
    "\n",
    "    return numeric_data\n",
    "\n",
    "cases_cleaned_df = restructure_and_clean_data(cases_df)\n",
    "deaths_cleaned_df = restructure_and_clean_data(deaths_df)\n",
    "\n",
    "cases_cleaned_file = '/your file path/Cleaned_Malaria_Cases.csv'\n",
    "deaths_cleaned_file = '/your file path/Cleaned_Malaria_Deaths.csv'\n",
    "\n",
    "#儲存清理後數據\n",
    "cases_cleaned_df.to_csv(cases_cleaned_file, index=False)\n",
    "deaths_cleaned_df.to_csv(deaths_cleaned_file, index=False)\n",
    "\n",
    "cases_cleaned_file, deaths_cleaned_file\n"
   ]
  },
  {
   "cell_type": "code",
   "execution_count": null,
   "metadata": {},
   "outputs": [
    {
     "data": {
      "text/plain": [
       "('/Users/wongyining/Desktop/大五上/用 Python與Excel 學習統計模型思維/期末專案/Predicted_Malaria_Cases.csv',\n",
       " '/Users/wongyining/Desktop/大五上/用 Python與Excel 學習統計模型思維/期末專案/Predicted_Malaria_Deaths.csv')"
      ]
     },
     "execution_count": 12,
     "metadata": {},
     "output_type": "execute_result"
    }
   ],
   "source": [
    "from sklearn.linear_model import LinearRegression\n",
    "import numpy as np\n",
    "\n",
    "#將處理後資料拆解為區域名稱、年份和數值，準備建立模型\n",
    "def prepare_regional_data(df):\n",
    "    regions = df['Region'].values \n",
    "    years = df.columns[1:].astype(int).values.reshape(-1, 1) \n",
    "    data = df.iloc[:, 1:].astype(float).values \n",
    "\n",
    "    return regions, years, data\n",
    "\n",
    "#建立模型，使用 Scikit-learn 的線性迴歸模型，其中 w_lin透過對 X 進行奇異值分解（SVD）進行計算\n",
    "def predict_future_values(regions, years, data, future_years):\n",
    "\n",
    "    predictions = {}\n",
    "\n",
    "    for i, region in enumerate(regions):\n",
    "        model = LinearRegression()\n",
    "        model.fit(years, data[i, :])  \n",
    "        predictions[region] = model.predict(future_years).astype(int).flatten()\n",
    "\n",
    "    return predictions\n",
    "\n",
    "future_years = np.arange(2022, 2027).reshape(-1, 1)\n",
    "\n",
    "cases_regions, cases_years, cases_data = prepare_regional_data(cases_cleaned_df)\n",
    "cases_predictions = predict_future_values(cases_regions, cases_years, cases_data, future_years)\n",
    "\n",
    "deaths_regions, deaths_years, deaths_data = prepare_regional_data(deaths_cleaned_df)\n",
    "deaths_predictions = predict_future_values(deaths_regions, deaths_years, deaths_data, future_years)\n",
    "\n",
    "cases_predictions_df = pd.DataFrame(cases_predictions, index=future_years.flatten())\n",
    "cases_predictions_df.index.name = 'Year'\n",
    "\n",
    "deaths_predictions_df = pd.DataFrame(deaths_predictions, index=future_years.flatten())\n",
    "deaths_predictions_df.index.name = 'Year'\n",
    "\n",
    "cases_predictions_df = cases_predictions_df.clip(lower=0)\n",
    "deaths_predictions_df = deaths_predictions_df.clip(lower=0)\n",
    "\n",
    "cases_predictions_file = '/your file path/Predicted_Malaria_Cases.csv'\n",
    "deaths_predictions_file = '/your file path/Predicted_Malaria_Deaths.csv'\n",
    "\n",
    "cases_predictions_df.to_csv(cases_predictions_file)\n",
    "deaths_predictions_df.to_csv(deaths_predictions_file)\n",
    "\n",
    "cases_predictions_file, deaths_predictions_file\n"
   ]
  }
 ],
 "metadata": {
  "kernelspec": {
   "display_name": "base",
   "language": "python",
   "name": "python3"
  },
  "language_info": {
   "codemirror_mode": {
    "name": "ipython",
    "version": 3
   },
   "file_extension": ".py",
   "mimetype": "text/x-python",
   "name": "python",
   "nbconvert_exporter": "python",
   "pygments_lexer": "ipython3",
   "version": "3.10.9"
  }
 },
 "nbformat": 4,
 "nbformat_minor": 2
}
